{
 "cells": [
  {
   "cell_type": "markdown",
   "metadata": {},
   "source": [
    "カテゴリーに分類するモデル構築　"
   ]
  },
  {
   "cell_type": "code",
   "execution_count": 4,
   "metadata": {},
   "outputs": [],
   "source": [
    "import random\n",
    "import glob\n",
    "from tqdm import tqdm\n",
    "\n",
    "import torch\n",
    "from torch.utils.data import DataLoader\n",
    "from transformers import BertJapaneseTokenizer, BertForSequenceClassification\n",
    "\n",
    "# 日本語の事前学習モデル\n",
    "MODEL_NAME = 'cl-tohoku/bert-base-japanese-whole-word-masking'"
   ]
  },
  {
   "cell_type": "code",
   "execution_count": 5,
   "metadata": {},
   "outputs": [],
   "source": [
    "text_list = [\"ドミノを倒します。\", \"プリンがあります。\", \"大阪へ行きます。\", \"スライムがいます。\", \"痛い、頭が。\", \"崩す、体勢を。\"]\n",
    "label_listA = [6, 6, 0, 6, 6, 6]\n",
    "label_listB = [0, 0, 0, 0, 1, 1] # map 0 box 1"
   ]
  },
  {
   "cell_type": "code",
   "execution_count": 6,
   "metadata": {},
   "outputs": [
    {
     "name": "stderr",
     "output_type": "stream",
     "text": [
      "100%|██████████| 7/7 [00:00<00:00, 502.48it/s]"
     ]
    },
    {
     "name": "stdout",
     "output_type": "stream",
     "text": [
      "海に行く。\n",
      "----\n",
      "##へ行く。\n",
      "----\n",
      "ハワイへ行く。\n",
      "----\n",
      "町まで移動する。\n",
      "----\n",
      "道を進む。\n",
      "----\n",
      "参る。\n",
      "----\n",
      "伺う。\n",
      "----\n",
      "まいる。\n",
      "----\n",
      "うかがう。\n",
      "----\n",
      "出発する。\n",
      "----\n",
      "足を運ぶ。\n",
      "----\n",
      "歩を運ぶ。\n",
      "----\n",
      "ダンジョンに向かう。\n",
      "----\n",
      "赴く。\n",
      "----\n",
      "道を前進する。\n",
      "----\n",
      "歩く。\n",
      "----\n",
      "走る。\n",
      "----\n",
      "旅立つ。\n",
      "----\n",
      "訪問する。\n",
      "----\n",
      "現場に出向く。\n",
      "----\n",
      "町にたどる。\n",
      "----\n",
      "到達する。\n",
      "----\n",
      "に行ってくる。\n",
      "----\n",
      "##へ##てくる。\n",
      "----\n",
      "##に##でくる。\n",
      "----\n",
      "##へ##でくる。\n",
      "----\n",
      "##に行って来る。\n",
      "----\n",
      "##へ##て来る。\n",
      "----\n",
      "##に##で来る。\n",
      "----\n",
      "##へ##で来る。\n",
      "----\n",
      "尋ねる。\n",
      "----\n",
      "飛んでいく。\n",
      "----\n",
      "ゴブリンと戦闘する。\n",
      "----\n",
      "ゴブリンと戦う。\n",
      "----\n",
      "ゾンビを倒す。\n",
      "----\n",
      "敵を殲滅する。\n",
      "----\n",
      "たたかう。\n",
      "----\n",
      "破る。\n",
      "----\n",
      "打ち破る。\n",
      "----\n",
      "掃滅する。\n",
      "----\n",
      "殺す。\n",
      "----\n",
      "敵機を撃破する。\n",
      "----\n",
      "打倒す。\n",
      "----\n",
      "打倒する。\n",
      "----\n",
      "勝利を収める。\n",
      "----\n",
      "討ち破る。\n",
      "----\n",
      "打ち負かす。\n",
      "----\n",
      "たたき伏せる。\n",
      "----\n",
      "薙ぎ倒す。\n",
      "----\n",
      "殴り倒す。\n",
      "----\n",
      "倒してくる。\n",
      "----\n",
      "アイテムをとる。\n",
      "----\n",
      "薬を採取する。\n",
      "----\n",
      "標本を採る。\n",
      "----\n",
      "素材を採取する。\n",
      "----\n",
      "収集する。\n",
      "----\n",
      "回収する。\n",
      "----\n",
      "抽出する。\n",
      "----\n",
      "収穫する。\n",
      "----\n",
      "採集する。\n",
      "----\n",
      "サンプルをとる。\n",
      "----\n",
      "集める。\n",
      "----\n",
      "採ってくる。\n",
      "----\n",
      "捕まる。\n",
      "----\n",
      "使う。\n",
      "----\n",
      "使用する。\n",
      "----\n",
      "飲む。\n",
      "----\n",
      "利用する。\n",
      "----\n",
      "装備する。\n",
      "----\n",
      "用いる。\n",
      "----\n",
      "扱う。\n",
      "----\n",
      "馬に乗る。\n",
      "----\n",
      "笛を吹く。\n",
      "----\n",
      "探す。\n",
      "----\n",
      "見つける。\n",
      "----\n",
      "発見する。\n",
      "----\n",
      "探してくる。\n",
      "----\n",
      "見つけて来る。\n",
      "----\n",
      "発見した。\n",
      "----\n",
      "見つけた。\n",
      "----\n",
      "捜す。\n",
      "----\n",
      "探知する。\n",
      "----\n",
      "探査する。\n",
      "----\n",
      "探索する。\n",
      "----\n",
      "サーチする。\n",
      "----\n",
      "捜索する。\n",
      "----\n",
      "購入する。\n",
      "----\n",
      "買う。\n",
      "----\n",
      "調達する。\n",
      "----\n",
      "仕入れる。\n",
      "----\n",
      "仕入れてくる。\n",
      "----\n",
      "買ってくる。\n",
      "----\n",
      "調達して来る。\n",
      "----\n",
      "購入してくる。\n",
      "----\n",
      "町がある。\n",
      "----\n",
      "モンスターがいる。\n",
      "----\n",
      "町が走っている。\n",
      "----\n",
      "町が飛んでいる。\n",
      "----\n",
      "フェンリルが飛んでいる。\n",
      "----\n",
      "サキュバスに誘惑される。\n",
      "----\n",
      "馬が泳いでいる。\n",
      "----\n",
      "私がいる。\n",
      "----\n",
      "夢がある。\n",
      "----\n",
      "フェンリルに倒されます。\n",
      "----\n",
      "グリフォンに倒される。\n",
      "----\n",
      "町が破壊される。\n",
      "----\n",
      "私が倒された。\n",
      "----\n",
      "彼女が私に走らせた。\n",
      "----\n",
      "ゴブリンが私に倒された。\n",
      "----\n",
      "夢が壊された。\n",
      "----\n",
      "体勢が。\n",
      "----\n",
      "体勢を。\n",
      "----\n",
      "ドミノ倒し。\n",
      "----\n",
      "ドミノを。\n",
      "----\n",
      "頭痛が。\n",
      "----\n",
      "痛い。\n",
      "----\n",
      "痛い、\n",
      "----\n",
      "怖い。\n",
      "----\n",
      "怖い、\n",
      "----\n",
      "恐怖。\n",
      "----\n",
      "恐怖が。\n",
      "----\n",
      "、頭痛が。\n",
      "----\n",
      "、体勢を。\n",
      "----\n",
      "{'input_ids': tensor([   2,  295,    7, 3488,    8,    3,    0,    0,    0,    0,    0,    0,\n",
      "           0,    0,    0,    0,    0,    0,    0,    0]), 'token_type_ids': tensor([0, 0, 0, 0, 0, 0, 0, 0, 0, 0, 0, 0, 0, 0, 0, 0, 0, 0, 0, 0]), 'attention_mask': tensor([1, 1, 1, 1, 1, 1, 0, 0, 0, 0, 0, 0, 0, 0, 0, 0, 0, 0, 0, 0]), 'labels': tensor(0)}\n",
      "123\n"
     ]
    },
    {
     "name": "stderr",
     "output_type": "stream",
     "text": [
      "\n"
     ]
    }
   ],
   "source": [
    "category_list = [\n",
    "    'movement', #0\n",
    "    'combat',   #1\n",
    "    'take',     #2\n",
    "    'use',      #3\n",
    "    'find',     #4\n",
    "    'buy',      #5\n",
    "    'unknown'   #6\n",
    "]\n",
    "# トークナイザのロード\n",
    "tokenizer = BertJapaneseTokenizer.from_pretrained(MODEL_NAME)\n",
    "\n",
    "max_length = 20\n",
    "dataset_for_loader = []\n",
    "for label, category in enumerate(tqdm(category_list)):\n",
    "    for file in glob.glob(f'./my_data/{category}*'):\n",
    "        lines = open(file).read().splitlines()\n",
    "        for text in lines:\n",
    "            print(text)\n",
    "            print('----')\n",
    "            encoding = tokenizer(\n",
    "                text,\n",
    "                max_length=max_length,\n",
    "                padding='max_length',\n",
    "                truncation=True\n",
    "            )\n",
    "            encoding['labels'] = label\n",
    "            encoding = { k: torch.tensor(v) for k, v in encoding.items()}\n",
    "            dataset_for_loader.append(encoding)\n",
    "\n",
    "\n",
    "print(dataset_for_loader[0])\n",
    "\n",
    "# データセットの分割\n",
    "random.shuffle(dataset_for_loader) # ランダムにシャッフル\n",
    "n = len(dataset_for_loader)\n",
    "print(n)"
   ]
  },
  {
   "cell_type": "code",
   "execution_count": 7,
   "metadata": {},
   "outputs": [
    {
     "name": "stderr",
     "output_type": "stream",
     "text": [
      "GPU available: True (cuda), used: True\n",
      "TPU available: False, using: 0 TPU cores\n",
      "HPU available: False, using: 0 HPUs\n",
      "Some weights of BertForSequenceClassification were not initialized from the model checkpoint at cl-tohoku/bert-base-japanese-whole-word-masking and are newly initialized: ['classifier.bias', 'classifier.weight']\n",
      "You should probably TRAIN this model on a down-stream task to be able to use it for predictions and inference.\n",
      "You are using a CUDA device ('NVIDIA GeForce RTX 3080 Ti') that has Tensor Cores. To properly utilize them, you should set `torch.set_float32_matmul_precision('medium' | 'high')` which will trade-off precision for performance. For more details, read https://pytorch.org/docs/stable/generated/torch.set_float32_matmul_precision.html#torch.set_float32_matmul_precision\n",
      "LOCAL_RANK: 0 - CUDA_VISIBLE_DEVICES: [0]\n",
      "\n",
      "  | Name    | Type                          | Params | Mode\n",
      "-----------------------------------------------------------------\n",
      "0 | bert_sc | BertForSequenceClassification | 110 M  | eval\n",
      "-----------------------------------------------------------------\n",
      "110 M     Trainable params\n",
      "0         Non-trainable params\n",
      "110 M     Total params\n",
      "442.491   Total estimated model params size (MB)\n",
      "0         Modules in train mode\n",
      "231       Modules in eval mode\n"
     ]
    },
    {
     "name": "stdout",
     "output_type": "stream",
     "text": [
      "Sanity Checking: |          | 0/? [00:00<?, ?it/s]"
     ]
    },
    {
     "name": "stderr",
     "output_type": "stream",
     "text": [
      "/home/yozora98/Works/python/nlp2/.venv/lib/python3.11/site-packages/pytorch_lightning/trainer/connectors/data_connector.py:425: The 'val_dataloader' does not have many workers which may be a bottleneck. Consider increasing the value of the `num_workers` argument` to `num_workers=23` in the `DataLoader` to improve performance.\n"
     ]
    },
    {
     "name": "stdout",
     "output_type": "stream",
     "text": [
      "                                                                           "
     ]
    },
    {
     "name": "stderr",
     "output_type": "stream",
     "text": [
      "/home/yozora98/Works/python/nlp2/.venv/lib/python3.11/site-packages/pytorch_lightning/trainer/connectors/data_connector.py:425: The 'train_dataloader' does not have many workers which may be a bottleneck. Consider increasing the value of the `num_workers` argument` to `num_workers=23` in the `DataLoader` to improve performance.\n",
      "/home/yozora98/Works/python/nlp2/.venv/lib/python3.11/site-packages/pytorch_lightning/loops/fit_loop.py:310: The number of training batches (37) is smaller than the logging interval Trainer(log_every_n_steps=50). Set a lower value for log_every_n_steps if you want to see logs for the training epoch.\n"
     ]
    },
    {
     "name": "stdout",
     "output_type": "stream",
     "text": [
      "Epoch 9: 100%|██████████| 37/37 [00:00<00:00, 51.54it/s, v_num=4]"
     ]
    },
    {
     "name": "stderr",
     "output_type": "stream",
     "text": [
      "`Trainer.fit` stopped: `max_epochs=10` reached.\n"
     ]
    },
    {
     "name": "stdout",
     "output_type": "stream",
     "text": [
      "Epoch 9: 100%|██████████| 37/37 [00:00<00:00, 51.47it/s, v_num=4]\n"
     ]
    }
   ],
   "source": [
    "n_train = int(0.6*n)\n",
    "n_val = int(0.2*n)\n",
    "dataset_train = dataset_for_loader[:n_train]\n",
    "dataset_val = dataset_for_loader[n_train:n_train+n_val]\n",
    "dataset_test = dataset_for_loader[n_train+n_val:]\n",
    "\n",
    "# データセットからデータローダを作成\n",
    "# 学習データはshuffle=Trueにする\n",
    "dataloader_train = DataLoader(dataset_train, batch_size=2, shuffle=True)\n",
    "dataloader_val = DataLoader(dataset_val, batch_size=16)\n",
    "dataloader_test = DataLoader(dataset_test, batch_size=16)\n",
    "\n",
    "import pytorch_lightning as pl\n",
    "class BertForSequenceClassification_pl(pl.LightningModule):\n",
    "    def __init__(self, model_name, num_labels, lr):\n",
    "        # model_name: Transformersのモデルの名前\n",
    "        # num_labels: ラベルの数\n",
    "        # lr: 学習率\n",
    "\n",
    "        super().__init__()\n",
    "\n",
    "        # 引数のnum_labelsとlrを保存\n",
    "        # 例えば、self.hparams.lrでlrにアクセスできる\n",
    "        # チェックポイント作成時にも自動で保存される\n",
    "        self.save_hyperparameters()\n",
    "\n",
    "        # BERTのロード\n",
    "        self.bert_sc = BertForSequenceClassification.from_pretrained(\n",
    "            model_name,\n",
    "            num_labels=num_labels\n",
    "        )\n",
    "\n",
    "    # 学習データのミニバッチ（'batch')が与えられた時に損失を出力する関数を書く\n",
    "    # batch_idxはミニバッチの番号であるが今回は使わない\n",
    "    def training_step(self, batch, batch_idx):\n",
    "        output = self.bert_sc(**batch)\n",
    "        loss = output.loss\n",
    "        self.log('train_loss', loss) # 損失を'train_loss'の名前でログをとる\n",
    "        return loss\n",
    "    \n",
    "    # 検証データのミニバッチが与えられたときに、\n",
    "    # 検証データを評価する指標を計算する関数を書く\n",
    "    def validation_step(self, batch, batch_idx):\n",
    "        output = self.bert_sc(**batch)\n",
    "        val_loss = output.loss\n",
    "        self.log('val_loss', val_loss) # 損失を'val_loss'の名前でログをとる\n",
    "\n",
    "    # テストデータのミニバッチが与えられたときに、\n",
    "    # テストデータを評価する指標を計算する関数を書く\n",
    "    def test_step(self, batch, batch_idx):\n",
    "        labels = batch.pop('labels')\n",
    "        output = self.bert_sc(**batch)\n",
    "        labels_predicted = output.logits.argmax(-1)\n",
    "        num_correct = (labels_predicted == labels ).sum().item()\n",
    "        accuracy = num_correct/labels.size(0) # 精度\n",
    "        self.log('accuracy', accuracy) # 精度を'accuracy'の名前でログをとる\n",
    "\n",
    "    # 学習に用いるオプティマイザを返す関数を書く\n",
    "    def configure_optimizers(self):\n",
    "        return torch.optim.Adam(self.parameters(), lr=self.hparams.lr)\n",
    "    \n",
    "# 学習時にモデルの重みを保存する条件を指定\n",
    "checkpoint = pl.callbacks.ModelCheckpoint(\n",
    "    monitor='val_loss',\n",
    "    mode='min',\n",
    "    save_top_k=1,\n",
    "    save_weights_only=True,\n",
    "    dirpath='model/',\n",
    ")\n",
    "\n",
    "# 学習の方法を指定\n",
    "trainer = pl.Trainer(\n",
    "    #gpus=1,\n",
    "    max_epochs=10,\n",
    "    callbacks = [checkpoint]\n",
    ")\n",
    "# num_labels = 9 \n",
    "model = BertForSequenceClassification_pl(\n",
    "    MODEL_NAME, num_labels=7, lr=1e-5\n",
    ")\n",
    "\n",
    "# ファインチューニングを行う\n",
    "trainer.fit(model, dataloader_train, dataloader_val)\n"
   ]
  },
  {
   "cell_type": "code",
   "execution_count": 8,
   "metadata": {},
   "outputs": [
    {
     "name": "stdout",
     "output_type": "stream",
     "text": [
      "ベストモデルのファイル:  /home/yozora98/Works/python/nlp2/model/epoch=8-step=333.ckpt\n",
      "ベストモデルの検証データに対する損失:  tensor(0.6026, device='cuda:0')\n"
     ]
    }
   ],
   "source": [
    "best_model_path = checkpoint.best_model_path # ベストモデルのファイル\n",
    "print('ベストモデルのファイル: ', checkpoint.best_model_path)\n",
    "print('ベストモデルの検証データに対する損失: ', checkpoint.best_model_score)"
   ]
  },
  {
   "cell_type": "code",
   "execution_count": 9,
   "metadata": {},
   "outputs": [
    {
     "data": {
      "text/html": [
       "\n",
       "      <iframe id=\"tensorboard-frame-70e64dd0e820ef6e\" width=\"100%\" height=\"800\" frameborder=\"0\">\n",
       "      </iframe>\n",
       "      <script>\n",
       "        (function() {\n",
       "          const frame = document.getElementById(\"tensorboard-frame-70e64dd0e820ef6e\");\n",
       "          const url = new URL(\"/\", window.location);\n",
       "          const port = 6006;\n",
       "          if (port) {\n",
       "            url.port = port;\n",
       "          }\n",
       "          frame.src = url;\n",
       "        })();\n",
       "      </script>\n",
       "    "
      ],
      "text/plain": [
       "<IPython.core.display.HTML object>"
      ]
     },
     "metadata": {},
     "output_type": "display_data"
    }
   ],
   "source": [
    "\n",
    "%load_ext tensorboard\n",
    "%tensorboard --logdir=\"~/Project/nlp2/lightning_logs/\""
   ]
  },
  {
   "cell_type": "code",
   "execution_count": 254,
   "metadata": {},
   "outputs": [
    {
     "name": "stderr",
     "output_type": "stream",
     "text": [
      "Restoring states from the checkpoint path at /home/yozora98/Project/nlp2/model/epoch=9-step=370.ckpt\n",
      "LOCAL_RANK: 0 - CUDA_VISIBLE_DEVICES: [0]\n",
      "Loaded model weights from the checkpoint at /home/yozora98/Project/nlp2/model/epoch=9-step=370.ckpt\n"
     ]
    },
    {
     "name": "stdout",
     "output_type": "stream",
     "text": [
      "Testing DataLoader 0: 100%|██████████| 2/2 [00:00<00:00, 106.88it/s]\n",
      "────────────────────────────────────────────────────────────────────────────────────────────────────────────────────────\n",
      "       Test metric             DataLoader 0\n",
      "────────────────────────────────────────────────────────────────────────────────────────────────────────────────────────\n",
      "        accuracy             0.807692289352417\n",
      "────────────────────────────────────────────────────────────────────────────────────────────────────────────────────────\n",
      "Accuracy: 0.81\n"
     ]
    }
   ],
   "source": [
    "test = trainer.test(dataloaders=dataloader_test)\n",
    "print(f'Accuracy: {test[0][\"accuracy\"]:.2f}')"
   ]
  },
  {
   "cell_type": "code",
   "execution_count": 255,
   "metadata": {},
   "outputs": [
    {
     "name": "stderr",
     "output_type": "stream",
     "text": [
      "Some weights of BertForSequenceClassification were not initialized from the model checkpoint at cl-tohoku/bert-base-japanese-whole-word-masking and are newly initialized: ['classifier.bias', 'classifier.weight']\n",
      "You should probably TRAIN this model on a down-stream task to be able to use it for predictions and inference.\n"
     ]
    }
   ],
   "source": [
    "# Pytorch Lightning モデルのロード\n",
    "model = BertForSequenceClassification_pl.load_from_checkpoint(best_model_path)\n",
    "\n",
    "# Transformers 対応のモデルを ./model_transformersに保存\n",
    "model.bert_sc.save_pretrained('./model_transformers')"
   ]
  },
  {
   "cell_type": "code",
   "execution_count": 256,
   "metadata": {},
   "outputs": [],
   "source": [
    "bert_sc = BertForSequenceClassification.from_pretrained('./model_transformers')"
   ]
  },
  {
   "cell_type": "code",
   "execution_count": 257,
   "metadata": {},
   "outputs": [
    {
     "name": "stdout",
     "output_type": "stream",
     "text": [
      "size:\n",
      "torch.Size([6, 9])\n",
      "predicted labels:\n",
      "tensor([6, 6, 0, 6, 6, 6])\n",
      "accuracy:\n",
      "1.0\n"
     ]
    }
   ],
   "source": [
    "# 推論 category\n",
    "\n",
    "encoding = tokenizer(\n",
    "    text_list,\n",
    "    padding = 'longest',\n",
    "    return_tensors='pt'\n",
    ")\n",
    "#encoding = { k: v.cuda() for k, v in encoding.items()}\n",
    "#labels = torch.tensor(label_list).cuda()\n",
    "encoding = { k: v for k, v in encoding.items()}\n",
    "labels = torch.tensor(label_listA)\n",
    "with torch.no_grad():\n",
    "    output = bert_sc.forward(**encoding)\n",
    "scores = output.logits\n",
    "labels_predictedB = scores.argmax(-1)\n",
    "num_correct = (labels_predictedB==labels).sum().item()\n",
    "accuracy = num_correct/labels.size(0)\n",
    "\n",
    "print('size:')\n",
    "print(scores.size())\n",
    "print('predicted labels:')\n",
    "print(labels_predictedB)\n",
    "print('accuracy:')\n",
    "print(accuracy)"
   ]
  },
  {
   "cell_type": "markdown",
   "metadata": {},
   "source": [
    "次はモデル２の構築 - map上のオブジェクトか？box内のオブジェクトか？"
   ]
  },
  {
   "cell_type": "code",
   "execution_count": 258,
   "metadata": {},
   "outputs": [
    {
     "name": "stderr",
     "output_type": "stream",
     "text": [
      "100%|██████████| 2/2 [00:00<00:00, 216.83it/s]"
     ]
    },
    {
     "name": "stdout",
     "output_type": "stream",
     "text": [
      "{'input_ids': tensor([   2,  295,    7, 3488,    8,    3,    0,    0,    0,    0,    0,    0,\n",
      "           0,    0,    0,    0,    0,    0,    0,    0]), 'token_type_ids': tensor([0, 0, 0, 0, 0, 0, 0, 0, 0, 0, 0, 0, 0, 0, 0, 0, 0, 0, 0, 0]), 'attention_mask': tensor([1, 1, 1, 1, 1, 1, 0, 0, 0, 0, 0, 0, 0, 0, 0, 0, 0, 0, 0, 0]), 'labels': tensor(0)}\n",
      "80\n"
     ]
    },
    {
     "name": "stderr",
     "output_type": "stream",
     "text": [
      "\n"
     ]
    }
   ],
   "source": [
    "category_list = [\n",
    "    'map',\n",
    "    'box'\n",
    "]\n",
    "\n",
    "tokenizer = BertJapaneseTokenizer.from_pretrained(MODEL_NAME)\n",
    "\n",
    "max_length = 20\n",
    "dataset_for_loader = []\n",
    "for label, category in enumerate(tqdm(category_list)):\n",
    "    for file in glob.glob(f'./my_data2/{category}*'):\n",
    "        lines = open(file).read().splitlines()\n",
    "        for text in lines:\n",
    "            encoding = tokenizer(\n",
    "                text,\n",
    "                max_length=max_length,\n",
    "                padding='max_length',\n",
    "                truncation=True\n",
    "            )\n",
    "            encoding['labels'] = label\n",
    "            encoding = { k: torch.tensor(v) for k, v in encoding.items()}\n",
    "            dataset_for_loader.append(encoding)\n",
    "\n",
    "\n",
    "print(dataset_for_loader[0])\n",
    "\n",
    "# データセットの分割\n",
    "random.shuffle(dataset_for_loader) # ランダムにシャッフル\n",
    "n = len(dataset_for_loader)\n",
    "print(n)"
   ]
  },
  {
   "cell_type": "code",
   "execution_count": 259,
   "metadata": {},
   "outputs": [
    {
     "name": "stderr",
     "output_type": "stream",
     "text": [
      "GPU available: True (cuda), used: True\n",
      "TPU available: False, using: 0 TPU cores\n",
      "HPU available: False, using: 0 HPUs\n",
      "Some weights of BertForSequenceClassification were not initialized from the model checkpoint at cl-tohoku/bert-base-japanese-whole-word-masking and are newly initialized: ['classifier.bias', 'classifier.weight']\n",
      "You should probably TRAIN this model on a down-stream task to be able to use it for predictions and inference.\n",
      "LOCAL_RANK: 0 - CUDA_VISIBLE_DEVICES: [0]\n",
      "\n",
      "  | Name    | Type                          | Params | Mode\n",
      "-----------------------------------------------------------------\n",
      "0 | bert_sc | BertForSequenceClassification | 110 M  | eval\n",
      "-----------------------------------------------------------------\n",
      "110 M     Trainable params\n",
      "0         Non-trainable params\n",
      "110 M     Total params\n",
      "442.497   Total estimated model params size (MB)\n",
      "0         Modules in train mode\n",
      "231       Modules in eval mode\n"
     ]
    },
    {
     "name": "stdout",
     "output_type": "stream",
     "text": [
      "Epoch 9: 100%|██████████| 24/24 [00:00<00:00, 33.52it/s, v_num=9]           "
     ]
    },
    {
     "name": "stderr",
     "output_type": "stream",
     "text": [
      "`Trainer.fit` stopped: `max_epochs=10` reached.\n"
     ]
    },
    {
     "name": "stdout",
     "output_type": "stream",
     "text": [
      "Epoch 9: 100%|██████████| 24/24 [00:01<00:00, 21.90it/s, v_num=9]\n"
     ]
    }
   ],
   "source": [
    "n_train = int(0.6*n)\n",
    "n_val = int(0.2*n)\n",
    "dataset_train = dataset_for_loader[:n_train]\n",
    "dataset_val = dataset_for_loader[n_train:n_train+n_val]\n",
    "dataset_test = dataset_for_loader[n_train+n_val:]\n",
    "\n",
    "# データセットからデータローダを作成\n",
    "# 学習データはshuffle=Trueにする\n",
    "dataloader_train = DataLoader(dataset_train, batch_size=2, shuffle=True)\n",
    "dataloader_val = DataLoader(dataset_val, batch_size=16)\n",
    "dataloader_test = DataLoader(dataset_test, batch_size=16)\n",
    "\n",
    "import pytorch_lightning as pl\n",
    "class BertForSequenceClassification_pl(pl.LightningModule):\n",
    "    def __init__(self, model_name, num_labels, lr):\n",
    "        # model_name: Transformersのモデルの名前\n",
    "        # num_labels: ラベルの数\n",
    "        # lr: 学習率\n",
    "\n",
    "        super().__init__()\n",
    "\n",
    "        # 引数のnum_labelsとlrを保存\n",
    "        # 例えば、self.hparams.lrでlrにアクセスできる\n",
    "        # チェックポイント作成時にも自動で保存される\n",
    "        self.save_hyperparameters()\n",
    "\n",
    "        # BERTのロード\n",
    "        self.bert_sc = BertForSequenceClassification.from_pretrained(\n",
    "            model_name,\n",
    "            num_labels=num_labels\n",
    "        )\n",
    "\n",
    "    # 学習データのミニバッチ（'batch')が与えられた時に損失を出力する関数を書く\n",
    "    # batch_idxはミニバッチの番号であるが今回は使わない\n",
    "    def training_step(self, batch, batch_idx):\n",
    "        output = self.bert_sc(**batch)\n",
    "        loss = output.loss\n",
    "        self.log('train_loss', loss) # 損失を'train_loss'の名前でログをとる\n",
    "        return loss\n",
    "    \n",
    "    # 検証データのミニバッチが与えられたときに、\n",
    "    # 検証データを評価する指標を計算する関数を書く\n",
    "    def validation_step(self, batch, batch_idx):\n",
    "        output = self.bert_sc(**batch)\n",
    "        val_loss = output.loss\n",
    "        self.log('val_loss', val_loss) # 損失を'val_loss'の名前でログをとる\n",
    "\n",
    "    # テストデータのミニバッチが与えられたときに、\n",
    "    # テストデータを評価する指標を計算する関数を書く\n",
    "    def test_step(self, batch, batch_idx):\n",
    "        labels = batch.pop('labels')\n",
    "        output = self.bert_sc(**batch)\n",
    "        labels_predicted = output.logits.argmax(-1)\n",
    "        num_correct = (labels_predicted == labels ).sum().item()\n",
    "        accuracy = num_correct/labels.size(0) # 精度\n",
    "        self.log('accuracy', accuracy) # 精度を'accuracy'の名前でログをとる\n",
    "\n",
    "    # 学習に用いるオプティマイザを返す関数を書く\n",
    "    def configure_optimizers(self):\n",
    "        return torch.optim.Adam(self.parameters(), lr=self.hparams.lr)\n",
    "    \n",
    "# 学習時にモデルの重みを保存する条件を指定\n",
    "checkpoint = pl.callbacks.ModelCheckpoint(\n",
    "    monitor='val_loss',\n",
    "    mode='min',\n",
    "    save_top_k=1,\n",
    "    save_weights_only=True,\n",
    "    dirpath='model/',\n",
    ")\n",
    "\n",
    "# 学習の方法を指定\n",
    "trainer = pl.Trainer(\n",
    "    #gpus=1,\n",
    "    max_epochs=10,\n",
    "    callbacks = [checkpoint]\n",
    ")\n",
    "\n",
    "model = BertForSequenceClassification_pl(\n",
    "    MODEL_NAME, num_labels=9, lr=1e-5\n",
    ")\n",
    "\n",
    "# ファインチューニングを行う\n",
    "trainer.fit(model, dataloader_train, dataloader_val)"
   ]
  },
  {
   "cell_type": "code",
   "execution_count": 260,
   "metadata": {},
   "outputs": [
    {
     "name": "stdout",
     "output_type": "stream",
     "text": [
      "ベストモデルのファイル:  /home/yozora98/Project/nlp2/model/epoch=9-step=240-v2.ckpt\n",
      "ベストモデルの検証データに対する損失:  tensor(0.0229, device='cuda:0')\n"
     ]
    }
   ],
   "source": [
    "best_model_path = checkpoint.best_model_path # ベストモデルのファイル\n",
    "print('ベストモデルのファイル: ', checkpoint.best_model_path)\n",
    "print('ベストモデルの検証データに対する損失: ', checkpoint.best_model_score)\n"
   ]
  },
  {
   "cell_type": "code",
   "execution_count": 261,
   "metadata": {},
   "outputs": [
    {
     "name": "stdout",
     "output_type": "stream",
     "text": [
      "The tensorboard extension is already loaded. To reload it, use:\n",
      "  %reload_ext tensorboard\n"
     ]
    },
    {
     "data": {
      "text/plain": [
       "Reusing TensorBoard on port 6007 (pid 3252), started 3:53:21 ago. (Use '!kill 3252' to kill it.)"
      ]
     },
     "metadata": {},
     "output_type": "display_data"
    },
    {
     "data": {
      "text/html": [
       "\n",
       "      <iframe id=\"tensorboard-frame-57ffe7689753c6f5\" width=\"100%\" height=\"800\" frameborder=\"0\">\n",
       "      </iframe>\n",
       "      <script>\n",
       "        (function() {\n",
       "          const frame = document.getElementById(\"tensorboard-frame-57ffe7689753c6f5\");\n",
       "          const url = new URL(\"http://localhost\");\n",
       "          const port = 6007;\n",
       "          if (port) {\n",
       "            url.port = port;\n",
       "          }\n",
       "          frame.src = url;\n",
       "        })();\n",
       "      </script>\n",
       "    "
      ],
      "text/plain": [
       "<IPython.core.display.HTML object>"
      ]
     },
     "metadata": {},
     "output_type": "display_data"
    }
   ],
   "source": [
    "%load_ext tensorboard\n",
    "%tensorboard --logdir=\"~/Project/nlp2/lightning_logs/\""
   ]
  },
  {
   "cell_type": "code",
   "execution_count": 262,
   "metadata": {},
   "outputs": [
    {
     "name": "stderr",
     "output_type": "stream",
     "text": [
      "Restoring states from the checkpoint path at /home/yozora98/Project/nlp2/model/epoch=9-step=240-v2.ckpt\n"
     ]
    },
    {
     "name": "stderr",
     "output_type": "stream",
     "text": [
      "LOCAL_RANK: 0 - CUDA_VISIBLE_DEVICES: [0]\n",
      "Loaded model weights from the checkpoint at /home/yozora98/Project/nlp2/model/epoch=9-step=240-v2.ckpt\n"
     ]
    },
    {
     "name": "stdout",
     "output_type": "stream",
     "text": [
      "Testing DataLoader 0: 100%|██████████| 1/1 [00:00<00:00, 104.33it/s]\n",
      "────────────────────────────────────────────────────────────────────────────────────────────────────────────────────────\n",
      "       Test metric             DataLoader 0\n",
      "────────────────────────────────────────────────────────────────────────────────────────────────────────────────────────\n",
      "        accuracy                   0.875\n",
      "────────────────────────────────────────────────────────────────────────────────────────────────────────────────────────\n",
      "Accuracy: 0.88\n"
     ]
    }
   ],
   "source": [
    "test = trainer.test(dataloaders=dataloader_test)\n",
    "print(f'Accuracy: {test[0][\"accuracy\"]:.2f}')"
   ]
  },
  {
   "cell_type": "code",
   "execution_count": 263,
   "metadata": {},
   "outputs": [
    {
     "name": "stderr",
     "output_type": "stream",
     "text": [
      "Some weights of BertForSequenceClassification were not initialized from the model checkpoint at cl-tohoku/bert-base-japanese-whole-word-masking and are newly initialized: ['classifier.bias', 'classifier.weight']\n",
      "You should probably TRAIN this model on a down-stream task to be able to use it for predictions and inference.\n"
     ]
    }
   ],
   "source": [
    "# Pytorch Lightning モデルのロード\n",
    "model = BertForSequenceClassification_pl.load_from_checkpoint(best_model_path)\n",
    "\n",
    "# Transformers 対応のモデルを ./model_transformersに保存\n",
    "model.bert_sc.save_pretrained('./model_transformers2')"
   ]
  },
  {
   "cell_type": "code",
   "execution_count": 264,
   "metadata": {},
   "outputs": [],
   "source": [
    "# モデルを読み込む\n",
    "bert_sc = BertForSequenceClassification.from_pretrained('./model_transformers2')"
   ]
  },
  {
   "cell_type": "code",
   "execution_count": 265,
   "metadata": {},
   "outputs": [
    {
     "name": "stdout",
     "output_type": "stream",
     "text": [
      "size:\n",
      "torch.Size([6, 9])\n",
      "predicted labels:\n",
      "tensor([0, 0, 0, 0, 0, 0])\n",
      "accuracy:\n",
      "0.6666666666666666\n"
     ]
    }
   ],
   "source": [
    "# 推論 map or box\n",
    "encoding = tokenizer(\n",
    "    text_list,\n",
    "    padding = 'longest',\n",
    "    return_tensors='pt'\n",
    ")\n",
    "#encoding = { k: v.cuda() for k, v in encoding.items()}\n",
    "#labels = torch.tensor(label_list).cuda()\n",
    "encoding = { k: v for k, v in encoding.items()}\n",
    "labels = torch.tensor(label_listB)\n",
    "with torch.no_grad():\n",
    "    output = bert_sc.forward(**encoding)\n",
    "scores = output.logits\n",
    "labels_predictedA = scores.argmax(-1)\n",
    "num_correct = (labels_predictedA==labels).sum().item()\n",
    "accuracy = num_correct/labels.size(0)\n",
    "\n",
    "print('size:')\n",
    "print(scores.size())\n",
    "print('predicted labels:')\n",
    "print(labels_predictedA)\n",
    "print('accuracy:')\n",
    "print(accuracy)"
   ]
  },
  {
   "cell_type": "code",
   "execution_count": 266,
   "metadata": {},
   "outputs": [],
   "source": [
    "class Obj:\n",
    "    def __init__(self, name):\n",
    "        self.name = name\n",
    "\n",
    "class MapObj(Obj):\n",
    "    def __init__(self, name, obj_type='map', position=(0, 0), hp=100):\n",
    "        super().__init__(name)\n",
    "        self.type = obj_type\n",
    "        self.position = position\n",
    "        self.hp = hp\n",
    "\n",
    "    def damage(self, damage):\n",
    "        self.hp -= damage\n",
    "        print(f'{damage}のダメージを与えた')\n",
    "        if(self.hp <= 0):\n",
    "            print('死亡!')\n",
    "    \n",
    "    def take(self):\n",
    "        print(f'アイテム{self.name}をゲットした。')\n",
    "\n",
    "    def find(self):\n",
    "        print(f'マップ上{self.name}を発見した。')\n",
    "\n",
    "            \n",
    "class BoxObj(Obj):\n",
    "    def __init__(self, name, obj_type='box', having=True):\n",
    "        super().__init__(name)\n",
    "        self.type = obj_type\n",
    "        self.having = having\n",
    "    \n",
    "    def use(self):\n",
    "        print(f'{self.name}を使用します。')\n",
    "        self.having = False\n",
    "\n",
    "    def find(self):\n",
    "        print(f'Box内に{self.name}を発見した。')\n",
    "\n",
    "m_obj_list = []\n",
    "b_obj_list = []\n",
    "m_obj1 = MapObj('グリフォン')\n",
    "m_obj2 = MapObj('スライム', position=(5, 5))\n",
    "m_obj_list.append(m_obj1)\n",
    "m_obj_list.append(m_obj2)\n",
    "b_obj1 = BoxObj('ポーション')\n",
    "b_obj_list.append(b_obj1)"
   ]
  },
  {
   "cell_type": "code",
   "execution_count": 267,
   "metadata": {},
   "outputs": [
    {
     "name": "stdout",
     "output_type": "stream",
     "text": [
      "グリフォン map\n",
      "スライム map\n",
      "------------\n",
      "ポーション box\n"
     ]
    }
   ],
   "source": [
    "# マップやボックスに実際存在しているオブジェクト\n",
    "for obj in m_obj_list:\n",
    "    # map\n",
    "    print(obj.name, obj.type)\n",
    "\n",
    "print('------------')\n",
    "for obj in b_obj_list:\n",
    "    # box\n",
    "    print(obj.name, obj.type)"
   ]
  },
  {
   "cell_type": "code",
   "execution_count": 268,
   "metadata": {},
   "outputs": [],
   "source": [
    "#class ItemBox:\n",
    "#    def __init__(self):\n",
    "#        self.item_list = []"
   ]
  },
  {
   "cell_type": "code",
   "execution_count": 269,
   "metadata": {},
   "outputs": [],
   "source": [
    "def find_obj(is_box_obj=None, name=\"\"):\n",
    "    if is_box_obj is None:\n",
    "        print('オブジェクトが見つかりませんでした。')\n",
    "        return None\n",
    "    elif is_box_obj == True:\n",
    "        for obj in b_obj_list:\n",
    "            if obj.name == name:\n",
    "                print(f'ボックスオブジェクト[{name}]を見つけた。')\n",
    "                return obj\n",
    "        print(name, \"が見つかりませんでした。(box)\")\n",
    "        return None\n",
    "    else:\n",
    "        for obj in m_obj_list:\n",
    "            if obj.name == name:\n",
    "                print(f'マップオブジェクト[{name}]を見つけた。')\n",
    "                return obj\n",
    "        print(name, \"が見つかりませんでした。(map)\")\n",
    "        return None"
   ]
  },
  {
   "cell_type": "code",
   "execution_count": 270,
   "metadata": {},
   "outputs": [],
   "source": [
    "class Character:\n",
    "    def __init__(self, name, position=(9, 9)):\n",
    "        self.name = name\n",
    "        self.position = position\n",
    "    \n",
    "    def move_to(self, target_pos):\n",
    "        print(f'{target_pos}に移動')\n",
    "        self.position = target_pos\n",
    "\n",
    "    def attack(self, target, damage):\n",
    "        if type(target) is MapObj:\n",
    "            target.damage(damage)\n",
    "        else:\n",
    "            print('攻撃可能なオブジェクトではありません。')\n",
    "\n",
    "character = Character('hello')"
   ]
  },
  {
   "cell_type": "markdown",
   "metadata": {},
   "source": [
    "音声入力による複雑な操作ができる。"
   ]
  },
  {
   "cell_type": "code",
   "execution_count": 273,
   "metadata": {},
   "outputs": [
    {
     "name": "stdout",
     "output_type": "stream",
     "text": [
      "プレイヤーhello現在の位置 (9, 9)\n",
      "大阪 が見つかりませんでした。(map)\n"
     ]
    }
   ],
   "source": [
    "# 行動生成？実行？の部分\n",
    "# character position\n",
    "print(f'プレイヤー{character.name}現在の位置', character.position)\n",
    "\n",
    "# name_list == 仕様書\n",
    "name_list = ['フェンリルAB','フェンリルA','ポーション', 'グリフォン', 'フェンリル', 'プリン', '大阪', 'スライム']\n",
    "obj_name = ''\n",
    "obj_indics = 2\n",
    "for name in name_list:\n",
    "    if name in text_list[obj_indics]:\n",
    "        obj_name = name\n",
    "        break\n",
    "    else:\n",
    "        continue\n",
    "\n",
    "if obj_name == \"\":\n",
    "    print('入力したオブジェクトの名前が仕様書にはありません。')\n",
    "\n",
    "on_map = 0\n",
    "in_box = 1\n",
    "if labels_predictedA[obj_indics] == on_map: \n",
    "    # map obj\n",
    "    target = find_obj(False, obj_name)\n",
    "    if target:\n",
    "        if labels_predictedB[obj_indics] == 6:\n",
    "                print('unknown action!')\n",
    "        elif labels_predictedB[obj_indics] == 0:\n",
    "            # カテゴリー:移動\n",
    "            character.move_to(target.position)  \n",
    "        else:\n",
    "            character.move_to(target.position)\n",
    "            #アクション実行\n",
    "            if labels_predictedB[obj_indics] == 1:\n",
    "                character.attack(target, damage=10)\n",
    "            elif labels_predictedB[obj_indics] == 2:\n",
    "                target.take()\n",
    "            elif labels_predictedB[obj_indics] == 4:\n",
    "                target.find()\n",
    "elif labels_predictedA[obj_indics] == in_box:\n",
    "    # box_obj\n",
    "    target = find_obj(True, obj_name)\n",
    "    if target:\n",
    "        if labels_predictedB[obj_indics] == 6:\n",
    "                print('unknown action!')\n",
    "        elif labels_predictedB[obj_indics] == 3:\n",
    "            print('アイテムを所持していますか：', target.having)\n",
    "            target.use()\n",
    "            print('アイテムを所持していますか：', target.having)\n",
    "        elif labels_predictedB[obj_indics] == 4:\n",
    "            target.find()"
   ]
  },
  {
   "cell_type": "code",
   "execution_count": 272,
   "metadata": {},
   "outputs": [
    {
     "name": "stdout",
     "output_type": "stream",
     "text": [
      "プレイヤーhello現在の位置 (9, 9)\n"
     ]
    }
   ],
   "source": [
    "print(f'プレイヤー{character.name}現在の位置', character.position)"
   ]
  }
 ],
 "metadata": {
  "kernelspec": {
   "display_name": ".venv",
   "language": "python",
   "name": "python3"
  },
  "language_info": {
   "codemirror_mode": {
    "name": "ipython",
    "version": 3
   },
   "file_extension": ".py",
   "mimetype": "text/x-python",
   "name": "python",
   "nbconvert_exporter": "python",
   "pygments_lexer": "ipython3",
   "version": "3.11.0"
  }
 },
 "nbformat": 4,
 "nbformat_minor": 2
}
